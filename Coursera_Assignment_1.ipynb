{
  "nbformat": 4,
  "nbformat_minor": 0,
  "metadata": {
    "colab": {
      "provenance": []
    },
    "kernelspec": {
      "name": "python3",
      "display_name": "Python 3"
    },
    "language_info": {
      "name": "python"
    }
  },
  "cells": [
    {
      "cell_type": "markdown",
      "source": [
        "## Coursera_Assignment_1"
      ],
      "metadata": {
        "id": "8Fw06Cwox3mf"
      }
    },
    {
      "cell_type": "markdown",
      "source": [
        "#### This notebook contains the first assignment of the Data Science Course provided by IBM."
      ],
      "metadata": {
        "id": "gs7qBj4VyJZa"
      }
    },
    {
      "cell_type": "markdown",
      "source": [
        "## Data Science Languages:\n",
        "#### 1. Python\n",
        "#### 2. R\n",
        "#### 3. SQL\n",
        "#### 4. Java\n",
        "#### 5. Scala\n",
        "#### 6. Go"
      ],
      "metadata": {
        "id": "jZd-n7Y6yNMT"
      }
    },
    {
      "cell_type": "markdown",
      "source": [
        "## Data Science Libraries:\n",
        "#### 1. Tensorflow\n",
        "#### 2. Scipy\n",
        "#### 3. Matplotlib\n",
        "#### 4. Numpy\n",
        "#### 5. Pandas"
      ],
      "metadata": {
        "id": "o7qprsksyq3r"
      }
    },
    {
      "cell_type": "markdown",
      "source": [
        "## Data Science Tools\n",
        "\n",
        "| Category          | Tools & Libraries                              |\n",
        "|------------------|-----------------------------------------------|\n",
        "| Programming     | Python, R, Julia                              |\n",
        "| Data Handling  | Pandas, NumPy, Dask, Vaex                     |\n",
        "| Data Visualization | Matplotlib, Seaborn, Plotly, Power BI      |\n",
        "| Machine Learning | Scikit-learn, XGBoost, LightGBM, TensorFlow, PyTorch |\n",
        "| Big Data Processing | Apache Spark, Hadoop, Dask                |\n",
        "| Model Deployment | Flask, FastAPI, Streamlit, Docker            |\n",
        "| Cloud Platforms | AWS, Google Cloud, Azure                      |\n",
        "\n"
      ],
      "metadata": {
        "id": "aanAM4vOzIq2"
      }
    },
    {
      "cell_type": "markdown",
      "source": [
        "## Arithmetic Expressions in Python\n",
        "\n",
        "Arithmetic expressions are used to perform mathematical operations in Python. Below are some common arithmetic operations:\n",
        "\n",
        "- **Addition (`+`)**: Adds two numbers.  \n",
        "  Example: `3 + 5 = 8`\n",
        "\n",
        "- **Subtraction (`-`)**: Subtracts the second number from the first.  \n",
        "  Example: `10 - 4 = 6`\n",
        "\n",
        "- **Multiplication (`*`)**: Multiplies two numbers.  \n",
        "  Example: `6 * 7 = 42`\n",
        "\n",
        "- **Division (`/`)**: Divides the first number by the second (returns a float).  \n",
        "  Example: `15 / 3 = 5.0`\n",
        "\n",
        "- **Floor Division (`//`)**: Divides and returns the integer quotient.  \n",
        "  Example: `17 // 4 = 4`\n",
        "\n",
        "- **Modulus (`%`)**: Returns the remainder of a division.  \n",
        "  Example: `17 % 4 = 1`\n",
        "\n",
        "- **Exponentiation (`**`)**: Raises the first number to the power of the second.  \n",
        "  Example: `2 ** 3 = 8`\n",
        "\n",
        "You can use these operations in Python to perform calculations efficiently.\n"
      ],
      "metadata": {
        "id": "-uh9A2s4zaa2"
      }
    },
    {
      "cell_type": "code",
      "source": [
        "# Multiplication and Addition in Python\n",
        "\n",
        "# Define numbers\n",
        "a = 5\n",
        "b = 10\n",
        "c = 2\n",
        "\n",
        "# Perform multiplication\n",
        "multiplication_result = a * b\n",
        "\n",
        "# Perform addition\n",
        "addition_result = multiplication_result + c\n",
        "\n",
        "# Print results\n",
        "print(\"Multiplication Result:\", multiplication_result)\n",
        "print(\"Final Result after Addition:\", addition_result)\n"
      ],
      "metadata": {
        "colab": {
          "base_uri": "https://localhost:8080/"
        },
        "id": "jKzYxnG4yYT0",
        "outputId": "affab132-abce-4b37-d4b6-0d1b2e13fd22"
      },
      "execution_count": 3,
      "outputs": [
        {
          "output_type": "stream",
          "name": "stdout",
          "text": [
            "Multiplication Result: 50\n",
            "Final Result after Addition: 52\n"
          ]
        }
      ]
    },
    {
      "cell_type": "code",
      "source": [
        "# Convert minutes to hours\n",
        "\n",
        "# Input: number of minutes\n",
        "minutes = 150  # Example value\n",
        "\n",
        "# Conversion calculation\n",
        "hours = minutes / 60\n",
        "\n",
        "# Print result\n",
        "print(f\"{minutes} minutes is equal to {hours:.2f} hours\")\n"
      ],
      "metadata": {
        "colab": {
          "base_uri": "https://localhost:8080/"
        },
        "id": "QtTc2-apzuIo",
        "outputId": "bd50b8f3-acc1-4f37-f44b-b8c99e843323"
      },
      "execution_count": 4,
      "outputs": [
        {
          "output_type": "stream",
          "name": "stdout",
          "text": [
            "150 minutes is equal to 2.50 hours\n"
          ]
        }
      ]
    },
    {
      "cell_type": "markdown",
      "source": [
        "## Objectives\n",
        "\n",
        "- Understand basic arithmetic operations in Python.\n",
        "- Learn how to perform multiplication and addition.\n",
        "- Convert time units from minutes to hours using Python.\n",
        "- Practice writing and executing Python code in Jupyter Notebook.\n"
      ],
      "metadata": {
        "id": "Kg61S0hKz5Cw"
      }
    },
    {
      "cell_type": "markdown",
      "source": [
        "## Author  \n",
        "**Dhruv Agarwal**\n"
      ],
      "metadata": {
        "id": "5bhNbCzUz-xc"
      }
    },
    {
      "cell_type": "code",
      "source": [],
      "metadata": {
        "id": "yqjZWUW_zz0F"
      },
      "execution_count": null,
      "outputs": []
    }
  ]
}