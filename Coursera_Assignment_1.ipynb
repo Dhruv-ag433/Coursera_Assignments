{
  "nbformat": 4,
  "nbformat_minor": 0,
  "metadata": {
    "colab": {
      "provenance": []
    },
    "kernelspec": {
      "name": "python3",
      "display_name": "Python 3"
    },
    "language_info": {
      "name": "python"
    }
  },
  "cells": [
    {
      "cell_type": "markdown",
      "source": [
        "## Data Science Tools and Ecosystem"
      ],
      "metadata": {
        "id": "8Fw06Cwox3mf"
      }
    },
    {
      "cell_type": "markdown",
      "source": [
        "#### In this notebook, Data Science Tools and Ecosystem are summarized"
      ],
      "metadata": {
        "id": "gs7qBj4VyJZa"
      }
    },
    {
      "cell_type": "markdown",
      "source": [
        "## Data Science Languages:\n",
        "#### Python\n",
        "#### R\n",
        "#### SQL\n",
        "#### Java\n",
        "#### Scala\n",
        "#### Go"
      ],
      "metadata": {
        "id": "jZd-n7Y6yNMT"
      }
    },
    {
      "cell_type": "markdown",
      "source": [
        "## Data Science Libraries:\n",
        "#### Tensorflow\n",
        "#### Scipy\n",
        "#### Matplotlib\n",
        "#### Numpy\n",
        "#### Pandas"
      ],
      "metadata": {
        "id": "o7qprsksyq3r"
      }
    },
    {
      "cell_type": "markdown",
      "source": [
        "## Data Science Tools\n",
        "#### Anaconda\n",
        "#### Jupyter Notebooks\n",
        "#### R Studio\n",
        "#### Spyder\n",
        "#### Zeppelin\n"
      ],
      "metadata": {
        "id": "aanAM4vOzIq2"
      }
    },
    {
      "cell_type": "markdown",
      "source": [
        "### Below are a few examples of evaluating arithmetic expressions in Python"
      ],
      "metadata": {
        "id": "-uh9A2s4zaa2"
      }
    },
    {
      "cell_type": "code",
      "source": [
        "# This is a simple arithmetic expression to multiply then add integers\n",
        "(3*4)+5"
      ],
      "metadata": {
        "colab": {
          "base_uri": "https://localhost:8080/"
        },
        "id": "jKzYxnG4yYT0",
        "outputId": "be328197-02ae-48af-9818-5ed15f7ba625"
      },
      "execution_count": 1,
      "outputs": [
        {
          "output_type": "execute_result",
          "data": {
            "text/plain": [
              "17"
            ]
          },
          "metadata": {},
          "execution_count": 1
        }
      ]
    },
    {
      "cell_type": "code",
      "source": [
        "# This will convert 200 minutes to hours by dividing by 60\n",
        "200//60"
      ],
      "metadata": {
        "colab": {
          "base_uri": "https://localhost:8080/"
        },
        "id": "QtTc2-apzuIo",
        "outputId": "aacc918f-8971-43dd-9c3e-df702c8f097f"
      },
      "execution_count": 2,
      "outputs": [
        {
          "output_type": "execute_result",
          "data": {
            "text/plain": [
              "3"
            ]
          },
          "metadata": {},
          "execution_count": 2
        }
      ]
    },
    {
      "cell_type": "markdown",
      "source": [
        "## Objectives\n",
        "\n",
        "- Add comments to code cells\n",
        "- Create markdown cells\n",
        "- Add ordered and unordered lists to markdown cells\n",
        "- Format content of markdown cells with heading styles\n"
      ],
      "metadata": {
        "id": "Kg61S0hKz5Cw"
      }
    },
    {
      "cell_type": "markdown",
      "source": [
        "## Author  \n",
        "**Dhruv Agarwal**\n"
      ],
      "metadata": {
        "id": "5bhNbCzUz-xc"
      }
    },
    {
      "cell_type": "code",
      "source": [],
      "metadata": {
        "id": "yqjZWUW_zz0F"
      },
      "execution_count": null,
      "outputs": []
    }
  ]
}